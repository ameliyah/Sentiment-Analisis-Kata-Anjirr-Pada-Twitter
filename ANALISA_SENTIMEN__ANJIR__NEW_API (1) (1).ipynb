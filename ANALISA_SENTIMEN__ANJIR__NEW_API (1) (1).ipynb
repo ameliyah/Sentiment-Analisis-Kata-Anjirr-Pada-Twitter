{
 "cells": [
  {
   "cell_type": "markdown",
   "metadata": {
    "tags": []
   },
   "source": [
    "### API CRAWLING"
   ]
  },
  {
   "cell_type": "code",
   "execution_count": 2,
   "metadata": {
    "colab": {
     "base_uri": "https://localhost:8080/"
    },
    "id": "BayRiUqSxy9Q",
    "outputId": "8ff4946d-9dcf-417e-bb03-3a86f79c386f"
   },
   "outputs": [
    {
     "name": "stdout",
     "output_type": "stream",
     "text": [
      "Requirement already satisfied: tweepy in c:\\users\\ameliyah riskiyah\\anaconda3\\lib\\site-packages (4.10.0)Note: you may need to restart the kernel to use updated packages.\n",
      "Requirement already satisfied: requests-oauthlib<2,>=1.2.0 in c:\\users\\ameliyah riskiyah\\anaconda3\\lib\\site-packages (from tweepy) (1.3.1)\n",
      "Requirement already satisfied: oauthlib<4,>=3.2.0 in c:\\users\\ameliyah riskiyah\\anaconda3\\lib\\site-packages (from tweepy) (3.2.0)\n",
      "Requirement already satisfied: requests<3,>=2.27.0 in c:\\users\\ameliyah riskiyah\\anaconda3\\lib\\site-packages (from tweepy) (2.27.1)\n",
      "Requirement already satisfied: charset-normalizer~=2.0.0 in c:\\users\\ameliyah riskiyah\\anaconda3\\lib\\site-packages (from requests<3,>=2.27.0->tweepy) (2.0.4)\n",
      "Requirement already satisfied: urllib3<1.27,>=1.21.1 in c:\\users\\ameliyah riskiyah\\anaconda3\\lib\\site-packages (from requests<3,>=2.27.0->tweepy) (1.26.7)\n",
      "Requirement already satisfied: idna<4,>=2.5 in c:\\users\\ameliyah riskiyah\\anaconda3\\lib\\site-packages (from requests<3,>=2.27.0->tweepy) (3.2)\n",
      "Requirement already satisfied: certifi>=2017.4.17 in c:\\users\\ameliyah riskiyah\\anaconda3\\lib\\site-packages (from requests<3,>=2.27.0->tweepy) (2021.10.8)\n",
      "\n"
     ]
    }
   ],
   "source": [
    "pip install tweepy"
   ]
  },
  {
   "cell_type": "code",
   "execution_count": 3,
   "metadata": {},
   "outputs": [],
   "source": [
    "#import tweepy\n",
    "import tweepy as tw\n",
    "from tweepy import OAuthHandler\n",
    "\n",
    "# API Key and API Secret\n",
    "consumer_key = 'tKL2PQo0wd8lu1cRtXwQ8kt2t'\n",
    "consumer_secret = 'aO3DLjGQmp5QcsKwEUECuxCDvB2O9CX0WeJU9vtSQ4uHwERM7s'\n",
    "access_token = '1314062229902245888-bNzMjrbn7sIlmYSy5Qc13lwVyAsh1v'\n",
    "access_secret = 'cxe5cLMyyp8OLk7TBPm5SQkYpc7G5hMLdn74f1s3E0J3D'\n",
    "\n",
    "#Auth\n",
    "auth = OAuthHandler(consumer_key, consumer_secret)\n",
    "auth.set_access_token(access_token, access_secret)\n",
    "\n",
    "api = tw.API(auth)"
   ]
  },
  {
   "cell_type": "code",
   "execution_count": 4,
   "metadata": {},
   "outputs": [],
   "source": [
    "search_query = \"anjir\" or \"Anjir\""
   ]
  },
  {
   "cell_type": "code",
   "execution_count": 5,
   "metadata": {},
   "outputs": [
    {
     "name": "stderr",
     "output_type": "stream",
     "text": [
      "Unexpected parameter: since\n",
      "Unexpected parameter: since\n",
      "Unexpected parameter: since\n",
      "Unexpected parameter: since\n",
      "Unexpected parameter: since\n",
      "Unexpected parameter: since\n",
      "Unexpected parameter: since\n",
      "Unexpected parameter: since\n",
      "Unexpected parameter: since\n",
      "Unexpected parameter: since\n",
      "Unexpected parameter: since\n",
      "Unexpected parameter: since\n"
     ]
    },
    {
     "name": "stdout",
     "output_type": "stream",
     "text": [
      "Total Tweets fetched: 180\n"
     ]
    }
   ],
   "source": [
    "#Get tweets from API\n",
    "tweets = tw.Cursor(api.search_tweets,\n",
    "                   q=search_query,\n",
    "                   lang=\"id\",\n",
    "                   since=\"2021-09-01\").items(180)\n",
    "\n",
    "#Store the API Response in a List\n",
    "tweets_copy = []\n",
    "for tweet in tweets:\n",
    "    tweets_copy.append(tweet)\n",
    "    \n",
    "print(\"Total Tweets fetched:\", len(tweets_copy))"
   ]
  },
  {
   "cell_type": "code",
   "execution_count": 6,
   "metadata": {
    "colab": {
     "base_uri": "https://localhost:8080/",
     "height": 641
    },
    "id": "gKDaTcOnz2_n",
    "outputId": "dbd3e770-a1cf-45d9-83bf-a30f5b5df37c"
   },
   "outputs": [
    {
     "data": {
      "text/html": [
       "<div>\n",
       "<style scoped>\n",
       "    .dataframe tbody tr th:only-of-type {\n",
       "        vertical-align: middle;\n",
       "    }\n",
       "\n",
       "    .dataframe tbody tr th {\n",
       "        vertical-align: top;\n",
       "    }\n",
       "\n",
       "    .dataframe thead th {\n",
       "        text-align: right;\n",
       "    }\n",
       "</style>\n",
       "<table border=\"1\" class=\"dataframe\">\n",
       "  <thead>\n",
       "    <tr style=\"text-align: right;\">\n",
       "      <th></th>\n",
       "      <th>user_name</th>\n",
       "      <th>user_location</th>\n",
       "      <th>user_description</th>\n",
       "      <th>user_verified</th>\n",
       "      <th>date</th>\n",
       "      <th>text</th>\n",
       "      <th>hashtags</th>\n",
       "      <th>source</th>\n",
       "    </tr>\n",
       "  </thead>\n",
       "  <tbody>\n",
       "    <tr>\n",
       "      <th>0</th>\n",
       "      <td>chocobear🐻</td>\n",
       "      <td></td>\n",
       "      <td>if we live fast, let us die young~</td>\n",
       "      <td>False</td>\n",
       "      <td>2022-06-22 10:30:32+00:00</td>\n",
       "      <td>yalord gw ga pgn ngekos anjir😭</td>\n",
       "      <td>None</td>\n",
       "      <td>Twitter for Android</td>\n",
       "    </tr>\n",
       "    <tr>\n",
       "      <th>1</th>\n",
       "      <td>Ezalor 🐨</td>\n",
       "      <td>hell crust</td>\n",
       "      <td>Habromania</td>\n",
       "      <td>False</td>\n",
       "      <td>2022-06-22 10:30:31+00:00</td>\n",
       "      <td>@troopiece Lah anjir, gitu bgt</td>\n",
       "      <td>None</td>\n",
       "      <td>Twitter for iPhone</td>\n",
       "    </tr>\n",
       "    <tr>\n",
       "      <th>2</th>\n",
       "      <td>Si helmet Hitam</td>\n",
       "      <td></td>\n",
       "      <td>enjoy your life!</td>\n",
       "      <td>False</td>\n",
       "      <td>2022-06-22 10:30:29+00:00</td>\n",
       "      <td>@501Awani Die yg rampas,nk suruh sape pulangka...</td>\n",
       "      <td>None</td>\n",
       "      <td>Twitter for Android</td>\n",
       "    </tr>\n",
       "    <tr>\n",
       "      <th>3</th>\n",
       "      <td>nzel👰🏻‍♂️</td>\n",
       "      <td>rant ⁿ³</td>\n",
       "      <td>hills, i bund out g</td>\n",
       "      <td>False</td>\n",
       "      <td>2022-06-22 10:30:28+00:00</td>\n",
       "      <td>ANJIR CAKEP BGT</td>\n",
       "      <td>None</td>\n",
       "      <td>Twitter for Android</td>\n",
       "    </tr>\n",
       "    <tr>\n",
       "      <th>4</th>\n",
       "      <td>️️ ️️tiar</td>\n",
       "      <td></td>\n",
       "      <td>tidak menerima ajakan meet up alias yang di tw...</td>\n",
       "      <td>False</td>\n",
       "      <td>2022-06-22 10:30:25+00:00</td>\n",
       "      <td>@sosmedkeras jelasin klo penjelasannya salah t...</td>\n",
       "      <td>None</td>\n",
       "      <td>Twitter for Android</td>\n",
       "    </tr>\n",
       "    <tr>\n",
       "      <th>...</th>\n",
       "      <td>...</td>\n",
       "      <td>...</td>\n",
       "      <td>...</td>\n",
       "      <td>...</td>\n",
       "      <td>...</td>\n",
       "      <td>...</td>\n",
       "      <td>...</td>\n",
       "      <td>...</td>\n",
       "    </tr>\n",
       "    <tr>\n",
       "      <th>175</th>\n",
       "      <td>Childish</td>\n",
       "      <td></td>\n",
       "      <td>I fuckin' love you</td>\n",
       "      <td>False</td>\n",
       "      <td>2022-06-22 10:25:22+00:00</td>\n",
       "      <td>@notcoolenimor Wkwk anjir</td>\n",
       "      <td>None</td>\n",
       "      <td>Twitter for Android</td>\n",
       "    </tr>\n",
       "    <tr>\n",
       "      <th>176</th>\n",
       "      <td>rigel</td>\n",
       "      <td>unlabeled! stranger dnf! dnss!</td>\n",
       "      <td>harta, tahta, angkasa</td>\n",
       "      <td>False</td>\n",
       "      <td>2022-06-22 10:25:22+00:00</td>\n",
       "      <td>@taebeomu MANA ADA ANJIR YG GUA SEBUT PACAR MA...</td>\n",
       "      <td>None</td>\n",
       "      <td>Twitter for Android</td>\n",
       "    </tr>\n",
       "    <tr>\n",
       "      <th>177</th>\n",
       "      <td>𝙒𝙚𝙘𝙝𝙩𝙚𝙡, micèl.</td>\n",
       "      <td>snd.</td>\n",
       "      <td>#nath : she’s the type of flower that can stil...</td>\n",
       "      <td>False</td>\n",
       "      <td>2022-06-22 10:25:21+00:00</td>\n",
       "      <td>@MINHE97CREW @MILE94CREW anjir ngetiknya kaya ...</td>\n",
       "      <td>None</td>\n",
       "      <td>Twitter for iPhone</td>\n",
       "    </tr>\n",
       "    <tr>\n",
       "      <th>178</th>\n",
       "      <td>Trishia</td>\n",
       "      <td></td>\n",
       "      <td>174cm</td>\n",
       "      <td>False</td>\n",
       "      <td>2022-06-22 10:25:19+00:00</td>\n",
       "      <td>RT @cchauhuyo: gue harus gimana lagi anjir nga...</td>\n",
       "      <td>None</td>\n",
       "      <td>Twitter Web App</td>\n",
       "    </tr>\n",
       "    <tr>\n",
       "      <th>179</th>\n",
       "      <td>Anya. fb</td>\n",
       "      <td>her 21.</td>\n",
       "      <td>damn, i'm so falling in love with you.</td>\n",
       "      <td>False</td>\n",
       "      <td>2022-06-22 10:25:17+00:00</td>\n",
       "      <td>@mengluvv @convomf Anjir uwu teros</td>\n",
       "      <td>None</td>\n",
       "      <td>Twitter for iPhone</td>\n",
       "    </tr>\n",
       "  </tbody>\n",
       "</table>\n",
       "<p>180 rows × 8 columns</p>\n",
       "</div>"
      ],
      "text/plain": [
       "           user_name                   user_location  \\\n",
       "0         chocobear🐻                                   \n",
       "1           Ezalor 🐨                      hell crust   \n",
       "2    Si helmet Hitam                                   \n",
       "3          nzel👰🏻‍♂️                         rant ⁿ³   \n",
       "4          ️️ ️️tiar                                   \n",
       "..               ...                             ...   \n",
       "175         Childish                                   \n",
       "176            rigel  unlabeled! stranger dnf! dnss!   \n",
       "177  𝙒𝙚𝙘𝙝𝙩𝙚𝙡, micèl.                            snd.   \n",
       "178          Trishia                                   \n",
       "179         Anya. fb                         her 21.   \n",
       "\n",
       "                                      user_description  user_verified  \\\n",
       "0                   if we live fast, let us die young~          False   \n",
       "1                                           Habromania          False   \n",
       "2                                     enjoy your life!          False   \n",
       "3                                  hills, i bund out g          False   \n",
       "4    tidak menerima ajakan meet up alias yang di tw...          False   \n",
       "..                                                 ...            ...   \n",
       "175                                 I fuckin' love you          False   \n",
       "176                              harta, tahta, angkasa          False   \n",
       "177  #nath : she’s the type of flower that can stil...          False   \n",
       "178                                              174cm          False   \n",
       "179             damn, i'm so falling in love with you.          False   \n",
       "\n",
       "                         date  \\\n",
       "0   2022-06-22 10:30:32+00:00   \n",
       "1   2022-06-22 10:30:31+00:00   \n",
       "2   2022-06-22 10:30:29+00:00   \n",
       "3   2022-06-22 10:30:28+00:00   \n",
       "4   2022-06-22 10:30:25+00:00   \n",
       "..                        ...   \n",
       "175 2022-06-22 10:25:22+00:00   \n",
       "176 2022-06-22 10:25:22+00:00   \n",
       "177 2022-06-22 10:25:21+00:00   \n",
       "178 2022-06-22 10:25:19+00:00   \n",
       "179 2022-06-22 10:25:17+00:00   \n",
       "\n",
       "                                                  text hashtags  \\\n",
       "0                       yalord gw ga pgn ngekos anjir😭     None   \n",
       "1                       @troopiece Lah anjir, gitu bgt     None   \n",
       "2    @501Awani Die yg rampas,nk suruh sape pulangka...     None   \n",
       "3                                      ANJIR CAKEP BGT     None   \n",
       "4    @sosmedkeras jelasin klo penjelasannya salah t...     None   \n",
       "..                                                 ...      ...   \n",
       "175                          @notcoolenimor Wkwk anjir     None   \n",
       "176  @taebeomu MANA ADA ANJIR YG GUA SEBUT PACAR MA...     None   \n",
       "177  @MINHE97CREW @MILE94CREW anjir ngetiknya kaya ...     None   \n",
       "178  RT @cchauhuyo: gue harus gimana lagi anjir nga...     None   \n",
       "179                 @mengluvv @convomf Anjir uwu teros     None   \n",
       "\n",
       "                  source  \n",
       "0    Twitter for Android  \n",
       "1     Twitter for iPhone  \n",
       "2    Twitter for Android  \n",
       "3    Twitter for Android  \n",
       "4    Twitter for Android  \n",
       "..                   ...  \n",
       "175  Twitter for Android  \n",
       "176  Twitter for Android  \n",
       "177   Twitter for iPhone  \n",
       "178      Twitter Web App  \n",
       "179   Twitter for iPhone  \n",
       "\n",
       "[180 rows x 8 columns]"
      ]
     },
     "execution_count": 6,
     "metadata": {},
     "output_type": "execute_result"
    }
   ],
   "source": [
    "import pandas as pd\n",
    "\n",
    "# intialize the dataframe\n",
    "tweets_df = pd.DataFrame()\n",
    "\n",
    "# populate the dataframe\n",
    "for tweet in tweets_copy:\n",
    "    hashtags = []\n",
    "    try:\n",
    "        for hashtag in tweet.entities[\"hashtags\"]:\n",
    "            hashtags.append(hashtag[\"text\"])\n",
    "        text = api.get_status(id=tweet.id, tweet_mode='extended').full_text\n",
    "    except:\n",
    "        pass\n",
    "    tweets_df = tweets_df.append(pd.DataFrame({'user_name': tweet.user.name, \n",
    "                                               'user_location': tweet.user.location,\\\n",
    "                                               'user_description': tweet.user.description,\n",
    "                                               'user_verified': tweet.user.verified,\n",
    "                                               'date': tweet.created_at,\n",
    "                                               'text': text, \n",
    "                                               'hashtags': [hashtags if hashtags else None],\n",
    "                                               'source': tweet.source}))\n",
    "    tweets_df = tweets_df.reset_index(drop=True)\n",
    "\n",
    "# show the dataframe\n",
    "tweets_df.head(180)"
   ]
  },
  {
   "cell_type": "code",
   "execution_count": 7,
   "metadata": {
    "colab": {
     "base_uri": "https://localhost:8080/",
     "height": 424
    },
    "id": "8cJ85Uf38X51",
    "outputId": "7caab727-066f-4a9e-c778-dd51c16ca051"
   },
   "outputs": [
    {
     "data": {
      "text/html": [
       "<div>\n",
       "<style scoped>\n",
       "    .dataframe tbody tr th:only-of-type {\n",
       "        vertical-align: middle;\n",
       "    }\n",
       "\n",
       "    .dataframe tbody tr th {\n",
       "        vertical-align: top;\n",
       "    }\n",
       "\n",
       "    .dataframe thead th {\n",
       "        text-align: right;\n",
       "    }\n",
       "</style>\n",
       "<table border=\"1\" class=\"dataframe\">\n",
       "  <thead>\n",
       "    <tr style=\"text-align: right;\">\n",
       "      <th></th>\n",
       "      <th>text</th>\n",
       "    </tr>\n",
       "  </thead>\n",
       "  <tbody>\n",
       "    <tr>\n",
       "      <th>0</th>\n",
       "      <td>yalord gw ga pgn ngekos anjir😭</td>\n",
       "    </tr>\n",
       "    <tr>\n",
       "      <th>1</th>\n",
       "      <td>@troopiece Lah anjir, gitu bgt</td>\n",
       "    </tr>\n",
       "    <tr>\n",
       "      <th>2</th>\n",
       "      <td>@501Awani Die yg rampas,nk suruh sape pulangka...</td>\n",
       "    </tr>\n",
       "    <tr>\n",
       "      <th>3</th>\n",
       "      <td>ANJIR CAKEP BGT</td>\n",
       "    </tr>\n",
       "    <tr>\n",
       "      <th>4</th>\n",
       "      <td>@sosmedkeras jelasin klo penjelasannya salah t...</td>\n",
       "    </tr>\n",
       "    <tr>\n",
       "      <th>...</th>\n",
       "      <td>...</td>\n",
       "    </tr>\n",
       "    <tr>\n",
       "      <th>175</th>\n",
       "      <td>@notcoolenimor Wkwk anjir</td>\n",
       "    </tr>\n",
       "    <tr>\n",
       "      <th>176</th>\n",
       "      <td>@taebeomu MANA ADA ANJIR YG GUA SEBUT PACAR MA...</td>\n",
       "    </tr>\n",
       "    <tr>\n",
       "      <th>177</th>\n",
       "      <td>@MINHE97CREW @MILE94CREW anjir ngetiknya kaya ...</td>\n",
       "    </tr>\n",
       "    <tr>\n",
       "      <th>178</th>\n",
       "      <td>RT @cchauhuyo: gue harus gimana lagi anjir nga...</td>\n",
       "    </tr>\n",
       "    <tr>\n",
       "      <th>179</th>\n",
       "      <td>@mengluvv @convomf Anjir uwu teros</td>\n",
       "    </tr>\n",
       "  </tbody>\n",
       "</table>\n",
       "<p>180 rows × 1 columns</p>\n",
       "</div>"
      ],
      "text/plain": [
       "                                                  text\n",
       "0                       yalord gw ga pgn ngekos anjir😭\n",
       "1                       @troopiece Lah anjir, gitu bgt\n",
       "2    @501Awani Die yg rampas,nk suruh sape pulangka...\n",
       "3                                      ANJIR CAKEP BGT\n",
       "4    @sosmedkeras jelasin klo penjelasannya salah t...\n",
       "..                                                 ...\n",
       "175                          @notcoolenimor Wkwk anjir\n",
       "176  @taebeomu MANA ADA ANJIR YG GUA SEBUT PACAR MA...\n",
       "177  @MINHE97CREW @MILE94CREW anjir ngetiknya kaya ...\n",
       "178  RT @cchauhuyo: gue harus gimana lagi anjir nga...\n",
       "179                 @mengluvv @convomf Anjir uwu teros\n",
       "\n",
       "[180 rows x 1 columns]"
      ]
     },
     "execution_count": 7,
     "metadata": {},
     "output_type": "execute_result"
    }
   ],
   "source": [
    "newtweets_df  = pd.DataFrame(tweets_df[['text']])\n",
    "newtweets_df"
   ]
  },
  {
   "cell_type": "markdown",
   "metadata": {},
   "source": [
    "### TEXT PREP"
   ]
  },
  {
   "cell_type": "code",
   "execution_count": 8,
   "metadata": {
    "colab": {
     "base_uri": "https://localhost:8080/"
    },
    "id": "SeaHWr1YdruS",
    "outputId": "8c17b576-273d-4496-a4cb-6422bdb8826f"
   },
   "outputs": [
    {
     "name": "stdout",
     "output_type": "stream",
     "text": [
      "Requirement already satisfied: nltk in c:\\users\\ameliyah riskiyah\\anaconda3\\lib\\site-packages (3.6.5)\n",
      "Requirement already satisfied: click in c:\\users\\ameliyah riskiyah\\anaconda3\\lib\\site-packages (from nltk) (7.1.2)\n",
      "Requirement already satisfied: joblib in c:\\users\\ameliyah riskiyah\\anaconda3\\lib\\site-packages (from nltk) (1.1.0)\n",
      "Requirement already satisfied: regex>=2021.8.3 in c:\\users\\ameliyah riskiyah\\anaconda3\\lib\\site-packages (from nltk) (2021.8.3)\n",
      "Requirement already satisfied: tqdm in c:\\users\\ameliyah riskiyah\\anaconda3\\lib\\site-packages (from nltk) (4.62.3)\n",
      "Requirement already satisfied: colorama in c:\\users\\ameliyah riskiyah\\anaconda3\\lib\\site-packages (from tqdm->nltk) (0.4.4)\n",
      "Note: you may need to restart the kernel to use updated packages.\n"
     ]
    }
   ],
   "source": [
    "pip install nltk"
   ]
  },
  {
   "cell_type": "code",
   "execution_count": 9,
   "metadata": {},
   "outputs": [
    {
     "name": "stdout",
     "output_type": "stream",
     "text": [
      "showing info https://raw.githubusercontent.com/nltk/nltk_data/gh-pages/index.xml\n"
     ]
    },
    {
     "data": {
      "text/plain": [
       "True"
      ]
     },
     "execution_count": 9,
     "metadata": {},
     "output_type": "execute_result"
    }
   ],
   "source": [
    "import nltk\n",
    "nltk.download()"
   ]
  },
  {
   "cell_type": "code",
   "execution_count": 10,
   "metadata": {
    "colab": {
     "base_uri": "https://localhost:8080/",
     "height": 1000
    },
    "id": "XBQYdLaJNq8a",
    "outputId": "04ca6ec3-3724-4242-cff3-ad3a276c851e"
   },
   "outputs": [],
   "source": [
    "#import stopword\n",
    "from nltk.corpus import stopwords \n",
    "stopwords_indonesia = stopwords.words('indonesian')\n",
    " \n",
    "#import sastrawi\n",
    "from Sastrawi.Stemmer.StemmerFactory import StemmerFactory\n",
    "factory = StemmerFactory()\n",
    "stemmer = factory.create_stemmer()\n",
    "\n",
    "#tokenize\n",
    "from nltk.tokenize import TweetTokenizer\n",
    " \n",
    "# Happy Emoticons\n",
    "emoticons_happy = set([\n",
    "    ':-)', ':)', ';)', ':o)', ':]', ':3', ':c)', ':>', '=]', '8)', '=)', ':}',\n",
    "    ':^)', ':-D', ':D', '8-D', '8D', 'x-D', 'xD', 'X-D', 'XD', '=-D', '=D',\n",
    "    '=-3', '=3', ':-))', \":'-)\", \":')\", ':*', ':^*', '>:P', ':-P', ':P', 'X-P',\n",
    "    'x-p', 'xp', 'XP', ':-p', ':p', '=p', ':-b', ':b', '>:)', '>;)', '>:-)',\n",
    "    '<3'\n",
    "    ])\n",
    " \n",
    "# Sad Emoticons\n",
    "emoticons_sad = set([\n",
    "    ':L', ':-/', '>:/', ':S', '>:[', ':@', ':-(', ':[', ':-||', '=L', ':<',\n",
    "    ':-[', ':-<', '=\\\\', '=/', '>:(', ':(', '>.<', \":'-(\", \":'(\", ':\\\\', ':-c',\n",
    "    ':c', ':{', '>:\\\\', ';('\n",
    "    ])\n",
    " \n",
    "# all emoticons (happy + sad)\n",
    "emoticons = emoticons_happy.union(emoticons_sad)"
   ]
  },
  {
   "cell_type": "code",
   "execution_count": 11,
   "metadata": {},
   "outputs": [],
   "source": [
    "import re\n",
    "import string\n",
    "def clean_tweets(tweet):\n",
    "    # remove stock market tickers like $GE\n",
    "    tweet = re.sub(r'\\$\\w*', '', tweet)\n",
    " \n",
    "    # remove old style retweet text \"RT\"\n",
    "    tweet = re.sub(r'^RT[\\s]+', '', tweet)\n",
    " \n",
    "    # remove hyperlinks\n",
    "    tweet = re.sub(r'https?:\\/\\/.*[\\r\\n]*', '', tweet)\n",
    "    \n",
    "    # remove hashtags\n",
    "    # only removing the hash # sign from the word\n",
    "    tweet = re.sub(r'#', '', tweet)\n",
    "    \n",
    "    #remove coma\n",
    "    tweet = re.sub(r',','',tweet)\n",
    "    \n",
    "    #remove angka\n",
    "    tweet = re.sub('[0-9]+', '', tweet)\n",
    " \n",
    "    # tokenize tweets\n",
    "    tokenizer = TweetTokenizer(preserve_case=False, strip_handles=True, reduce_len=True)\n",
    "    tweet_tokens = tokenizer.tokenize(tweet)\n",
    " \n",
    "    tweets_clean = []    \n",
    "    for word in tweet_tokens:\n",
    "        if (word not in stopwords_indonesia and # remove stopwords\n",
    "              word not in emoticons and # remove emoticons\n",
    "                word not in string.punctuation): # remove punctuation\n",
    "            #tweets_clean.append(word)\n",
    "            stem_word = stemmer.stem(word) # stemming word\n",
    "            tweets_clean.append(stem_word)\n",
    " \n",
    "    return tweets_clean"
   ]
  },
  {
   "cell_type": "code",
   "execution_count": 12,
   "metadata": {},
   "outputs": [],
   "source": [
    "newtweets_df['Hasil_Pembersihan'] = newtweets_df['text'].apply(lambda x: clean_tweets(x))"
   ]
  },
  {
   "cell_type": "code",
   "execution_count": 13,
   "metadata": {},
   "outputs": [
    {
     "data": {
      "text/html": [
       "<div>\n",
       "<style scoped>\n",
       "    .dataframe tbody tr th:only-of-type {\n",
       "        vertical-align: middle;\n",
       "    }\n",
       "\n",
       "    .dataframe tbody tr th {\n",
       "        vertical-align: top;\n",
       "    }\n",
       "\n",
       "    .dataframe thead th {\n",
       "        text-align: right;\n",
       "    }\n",
       "</style>\n",
       "<table border=\"1\" class=\"dataframe\">\n",
       "  <thead>\n",
       "    <tr style=\"text-align: right;\">\n",
       "      <th></th>\n",
       "      <th>text</th>\n",
       "      <th>Hasil_Pembersihan</th>\n",
       "    </tr>\n",
       "  </thead>\n",
       "  <tbody>\n",
       "    <tr>\n",
       "      <th>0</th>\n",
       "      <td>yalord gw ga pgn ngekos anjir😭</td>\n",
       "      <td>[yalord, gw, ga, pgn, ngekos, anjir, ]</td>\n",
       "    </tr>\n",
       "    <tr>\n",
       "      <th>1</th>\n",
       "      <td>@troopiece Lah anjir, gitu bgt</td>\n",
       "      <td>[anjir, gitu, bgt]</td>\n",
       "    </tr>\n",
       "    <tr>\n",
       "      <th>2</th>\n",
       "      <td>@501Awani Die yg rampas,nk suruh sape pulangka...</td>\n",
       "      <td>[die, yg, rampasnk, suruh, sape, pulang, , anj...</td>\n",
       "    </tr>\n",
       "    <tr>\n",
       "      <th>3</th>\n",
       "      <td>ANJIR CAKEP BGT</td>\n",
       "      <td>[anjir, cakep, bgt]</td>\n",
       "    </tr>\n",
       "    <tr>\n",
       "      <th>4</th>\n",
       "      <td>@sosmedkeras jelasin klo penjelasannya salah t...</td>\n",
       "      <td>[jelasin, klo, jelas, salah, tuh, si, anjir, w...</td>\n",
       "    </tr>\n",
       "    <tr>\n",
       "      <th>...</th>\n",
       "      <td>...</td>\n",
       "      <td>...</td>\n",
       "    </tr>\n",
       "    <tr>\n",
       "      <th>175</th>\n",
       "      <td>@notcoolenimor Wkwk anjir</td>\n",
       "      <td>[wkwk, anjir]</td>\n",
       "    </tr>\n",
       "    <tr>\n",
       "      <th>176</th>\n",
       "      <td>@taebeomu MANA ADA ANJIR YG GUA SEBUT PACAR MA...</td>\n",
       "      <td>[anjir, yg, gua, pacar, mah, jay]</td>\n",
       "    </tr>\n",
       "    <tr>\n",
       "      <th>177</th>\n",
       "      <td>@MINHE97CREW @MILE94CREW anjir ngetiknya kaya ...</td>\n",
       "      <td>[anjir, ngetiknya, kaya, org, gpny, agama]</td>\n",
       "    </tr>\n",
       "    <tr>\n",
       "      <th>178</th>\n",
       "      <td>RT @cchauhuyo: gue harus gimana lagi anjir nga...</td>\n",
       "      <td>[gue, gimana, anjir, ngadepin, dua, , ]</td>\n",
       "    </tr>\n",
       "    <tr>\n",
       "      <th>179</th>\n",
       "      <td>@mengluvv @convomf Anjir uwu teros</td>\n",
       "      <td>[anjir, uwu, ros]</td>\n",
       "    </tr>\n",
       "  </tbody>\n",
       "</table>\n",
       "<p>180 rows × 2 columns</p>\n",
       "</div>"
      ],
      "text/plain": [
       "                                                  text  \\\n",
       "0                       yalord gw ga pgn ngekos anjir😭   \n",
       "1                       @troopiece Lah anjir, gitu bgt   \n",
       "2    @501Awani Die yg rampas,nk suruh sape pulangka...   \n",
       "3                                      ANJIR CAKEP BGT   \n",
       "4    @sosmedkeras jelasin klo penjelasannya salah t...   \n",
       "..                                                 ...   \n",
       "175                          @notcoolenimor Wkwk anjir   \n",
       "176  @taebeomu MANA ADA ANJIR YG GUA SEBUT PACAR MA...   \n",
       "177  @MINHE97CREW @MILE94CREW anjir ngetiknya kaya ...   \n",
       "178  RT @cchauhuyo: gue harus gimana lagi anjir nga...   \n",
       "179                 @mengluvv @convomf Anjir uwu teros   \n",
       "\n",
       "                                     Hasil_Pembersihan  \n",
       "0               [yalord, gw, ga, pgn, ngekos, anjir, ]  \n",
       "1                                   [anjir, gitu, bgt]  \n",
       "2    [die, yg, rampasnk, suruh, sape, pulang, , anj...  \n",
       "3                                  [anjir, cakep, bgt]  \n",
       "4    [jelasin, klo, jelas, salah, tuh, si, anjir, w...  \n",
       "..                                                 ...  \n",
       "175                                      [wkwk, anjir]  \n",
       "176                  [anjir, yg, gua, pacar, mah, jay]  \n",
       "177         [anjir, ngetiknya, kaya, org, gpny, agama]  \n",
       "178            [gue, gimana, anjir, ngadepin, dua, , ]  \n",
       "179                                  [anjir, uwu, ros]  \n",
       "\n",
       "[180 rows x 2 columns]"
      ]
     },
     "execution_count": 13,
     "metadata": {},
     "output_type": "execute_result"
    }
   ],
   "source": [
    "newtweets_df"
   ]
  },
  {
   "cell_type": "code",
   "execution_count": 14,
   "metadata": {},
   "outputs": [],
   "source": [
    "def remove_punct(text):\n",
    "    text  = \" \".join([char for char in text if char not in string.punctuation])\n",
    "    return text"
   ]
  },
  {
   "cell_type": "code",
   "execution_count": 15,
   "metadata": {},
   "outputs": [
    {
     "data": {
      "text/html": [
       "<div>\n",
       "<style scoped>\n",
       "    .dataframe tbody tr th:only-of-type {\n",
       "        vertical-align: middle;\n",
       "    }\n",
       "\n",
       "    .dataframe tbody tr th {\n",
       "        vertical-align: top;\n",
       "    }\n",
       "\n",
       "    .dataframe thead th {\n",
       "        text-align: right;\n",
       "    }\n",
       "</style>\n",
       "<table border=\"1\" class=\"dataframe\">\n",
       "  <thead>\n",
       "    <tr style=\"text-align: right;\">\n",
       "      <th></th>\n",
       "      <th>text</th>\n",
       "      <th>Hasil_Pembersihan</th>\n",
       "      <th>Hasil_Pembersihan_2</th>\n",
       "    </tr>\n",
       "  </thead>\n",
       "  <tbody>\n",
       "    <tr>\n",
       "      <th>0</th>\n",
       "      <td>yalord gw ga pgn ngekos anjir😭</td>\n",
       "      <td>[yalord, gw, ga, pgn, ngekos, anjir, ]</td>\n",
       "      <td>yalord gw ga pgn ngekos anjir</td>\n",
       "    </tr>\n",
       "    <tr>\n",
       "      <th>1</th>\n",
       "      <td>@troopiece Lah anjir, gitu bgt</td>\n",
       "      <td>[anjir, gitu, bgt]</td>\n",
       "      <td>anjir gitu bgt</td>\n",
       "    </tr>\n",
       "    <tr>\n",
       "      <th>2</th>\n",
       "      <td>@501Awani Die yg rampas,nk suruh sape pulangka...</td>\n",
       "      <td>[die, yg, rampasnk, suruh, sape, pulang, , anj...</td>\n",
       "      <td>die yg rampasnk suruh sape pulang anjir</td>\n",
       "    </tr>\n",
       "    <tr>\n",
       "      <th>3</th>\n",
       "      <td>ANJIR CAKEP BGT</td>\n",
       "      <td>[anjir, cakep, bgt]</td>\n",
       "      <td>anjir cakep bgt</td>\n",
       "    </tr>\n",
       "    <tr>\n",
       "      <th>4</th>\n",
       "      <td>@sosmedkeras jelasin klo penjelasannya salah t...</td>\n",
       "      <td>[jelasin, klo, jelas, salah, tuh, si, anjir, w...</td>\n",
       "      <td>jelasin klo jelas salah tuh si anjir wkwkwk</td>\n",
       "    </tr>\n",
       "    <tr>\n",
       "      <th>...</th>\n",
       "      <td>...</td>\n",
       "      <td>...</td>\n",
       "      <td>...</td>\n",
       "    </tr>\n",
       "    <tr>\n",
       "      <th>175</th>\n",
       "      <td>@notcoolenimor Wkwk anjir</td>\n",
       "      <td>[wkwk, anjir]</td>\n",
       "      <td>wkwk anjir</td>\n",
       "    </tr>\n",
       "    <tr>\n",
       "      <th>176</th>\n",
       "      <td>@taebeomu MANA ADA ANJIR YG GUA SEBUT PACAR MA...</td>\n",
       "      <td>[anjir, yg, gua, pacar, mah, jay]</td>\n",
       "      <td>anjir yg gua pacar mah jay</td>\n",
       "    </tr>\n",
       "    <tr>\n",
       "      <th>177</th>\n",
       "      <td>@MINHE97CREW @MILE94CREW anjir ngetiknya kaya ...</td>\n",
       "      <td>[anjir, ngetiknya, kaya, org, gpny, agama]</td>\n",
       "      <td>anjir ngetiknya kaya org gpny agama</td>\n",
       "    </tr>\n",
       "    <tr>\n",
       "      <th>178</th>\n",
       "      <td>RT @cchauhuyo: gue harus gimana lagi anjir nga...</td>\n",
       "      <td>[gue, gimana, anjir, ngadepin, dua, , ]</td>\n",
       "      <td>gue gimana anjir ngadepin dua</td>\n",
       "    </tr>\n",
       "    <tr>\n",
       "      <th>179</th>\n",
       "      <td>@mengluvv @convomf Anjir uwu teros</td>\n",
       "      <td>[anjir, uwu, ros]</td>\n",
       "      <td>anjir uwu ros</td>\n",
       "    </tr>\n",
       "  </tbody>\n",
       "</table>\n",
       "<p>180 rows × 3 columns</p>\n",
       "</div>"
      ],
      "text/plain": [
       "                                                  text  \\\n",
       "0                       yalord gw ga pgn ngekos anjir😭   \n",
       "1                       @troopiece Lah anjir, gitu bgt   \n",
       "2    @501Awani Die yg rampas,nk suruh sape pulangka...   \n",
       "3                                      ANJIR CAKEP BGT   \n",
       "4    @sosmedkeras jelasin klo penjelasannya salah t...   \n",
       "..                                                 ...   \n",
       "175                          @notcoolenimor Wkwk anjir   \n",
       "176  @taebeomu MANA ADA ANJIR YG GUA SEBUT PACAR MA...   \n",
       "177  @MINHE97CREW @MILE94CREW anjir ngetiknya kaya ...   \n",
       "178  RT @cchauhuyo: gue harus gimana lagi anjir nga...   \n",
       "179                 @mengluvv @convomf Anjir uwu teros   \n",
       "\n",
       "                                     Hasil_Pembersihan  \\\n",
       "0               [yalord, gw, ga, pgn, ngekos, anjir, ]   \n",
       "1                                   [anjir, gitu, bgt]   \n",
       "2    [die, yg, rampasnk, suruh, sape, pulang, , anj...   \n",
       "3                                  [anjir, cakep, bgt]   \n",
       "4    [jelasin, klo, jelas, salah, tuh, si, anjir, w...   \n",
       "..                                                 ...   \n",
       "175                                      [wkwk, anjir]   \n",
       "176                  [anjir, yg, gua, pacar, mah, jay]   \n",
       "177         [anjir, ngetiknya, kaya, org, gpny, agama]   \n",
       "178            [gue, gimana, anjir, ngadepin, dua, , ]   \n",
       "179                                  [anjir, uwu, ros]   \n",
       "\n",
       "                             Hasil_Pembersihan_2  \n",
       "0                  yalord gw ga pgn ngekos anjir  \n",
       "1                                 anjir gitu bgt  \n",
       "2        die yg rampasnk suruh sape pulang anjir  \n",
       "3                                anjir cakep bgt  \n",
       "4    jelasin klo jelas salah tuh si anjir wkwkwk  \n",
       "..                                           ...  \n",
       "175                                   wkwk anjir  \n",
       "176                   anjir yg gua pacar mah jay  \n",
       "177          anjir ngetiknya kaya org gpny agama  \n",
       "178                gue gimana anjir ngadepin dua  \n",
       "179                                anjir uwu ros  \n",
       "\n",
       "[180 rows x 3 columns]"
      ]
     },
     "execution_count": 15,
     "metadata": {},
     "output_type": "execute_result"
    }
   ],
   "source": [
    "newtweets_df['Hasil_Pembersihan_2'] = newtweets_df['Hasil_Pembersihan'].apply(lambda x: remove_punct(x))\n",
    "newtweets_df"
   ]
  },
  {
   "cell_type": "code",
   "execution_count": 16,
   "metadata": {},
   "outputs": [
    {
     "name": "stderr",
     "output_type": "stream",
     "text": [
      "[nltk_data] Downloading package vader_lexicon to C:\\Users\\Ameliyah\n",
      "[nltk_data]     Riskiyah\\AppData\\Roaming\\nltk_data...\n",
      "[nltk_data]   Package vader_lexicon is already up-to-date!\n"
     ]
    }
   ],
   "source": [
    "import nltk\n",
    "from nltk.sentiment.vader import SentimentIntensityAnalyzer\n",
    "nltk.download('vader_lexicon')\n",
    "sentiments = SentimentIntensityAnalyzer()\n",
    "newtweets_df[\"Positive\"] = [sentiments.polarity_scores(i)[\"pos\"] for i in newtweets_df[\"Hasil_Pembersihan_2\"]]\n",
    "newtweets_df[\"Negative\"] = [sentiments.polarity_scores(i)[\"neg\"] for i in newtweets_df[\"Hasil_Pembersihan_2\"]]\n",
    "newtweets_df[\"Neutral\"] = [sentiments.polarity_scores(i)[\"neu\"] for i in newtweets_df[\"Hasil_Pembersihan_2\"]]"
   ]
  },
  {
   "cell_type": "code",
   "execution_count": 48,
   "metadata": {},
   "outputs": [
    {
     "data": {
      "text/html": [
       "<div>\n",
       "<style scoped>\n",
       "    .dataframe tbody tr th:only-of-type {\n",
       "        vertical-align: middle;\n",
       "    }\n",
       "\n",
       "    .dataframe tbody tr th {\n",
       "        vertical-align: top;\n",
       "    }\n",
       "\n",
       "    .dataframe thead th {\n",
       "        text-align: right;\n",
       "    }\n",
       "</style>\n",
       "<table border=\"1\" class=\"dataframe\">\n",
       "  <thead>\n",
       "    <tr style=\"text-align: right;\">\n",
       "      <th></th>\n",
       "      <th>Hasil_Pembersihan_2</th>\n",
       "      <th>Positive</th>\n",
       "      <th>Negative</th>\n",
       "      <th>Neutral</th>\n",
       "    </tr>\n",
       "  </thead>\n",
       "  <tbody>\n",
       "    <tr>\n",
       "      <th>0</th>\n",
       "      <td>yalord gw ga pgn ngekos anjir</td>\n",
       "      <td>0.0</td>\n",
       "      <td>0.000</td>\n",
       "      <td>1.000</td>\n",
       "    </tr>\n",
       "    <tr>\n",
       "      <th>1</th>\n",
       "      <td>anjir gitu bgt</td>\n",
       "      <td>0.0</td>\n",
       "      <td>0.000</td>\n",
       "      <td>1.000</td>\n",
       "    </tr>\n",
       "    <tr>\n",
       "      <th>2</th>\n",
       "      <td>die yg rampasnk suruh sape pulang anjir</td>\n",
       "      <td>0.0</td>\n",
       "      <td>0.394</td>\n",
       "      <td>0.606</td>\n",
       "    </tr>\n",
       "    <tr>\n",
       "      <th>3</th>\n",
       "      <td>anjir cakep bgt</td>\n",
       "      <td>0.0</td>\n",
       "      <td>0.000</td>\n",
       "      <td>1.000</td>\n",
       "    </tr>\n",
       "    <tr>\n",
       "      <th>4</th>\n",
       "      <td>jelasin klo jelas salah tuh si anjir wkwkwk</td>\n",
       "      <td>0.0</td>\n",
       "      <td>0.000</td>\n",
       "      <td>1.000</td>\n",
       "    </tr>\n",
       "    <tr>\n",
       "      <th>...</th>\n",
       "      <td>...</td>\n",
       "      <td>...</td>\n",
       "      <td>...</td>\n",
       "      <td>...</td>\n",
       "    </tr>\n",
       "    <tr>\n",
       "      <th>175</th>\n",
       "      <td>wkwk anjir</td>\n",
       "      <td>0.0</td>\n",
       "      <td>0.000</td>\n",
       "      <td>1.000</td>\n",
       "    </tr>\n",
       "    <tr>\n",
       "      <th>176</th>\n",
       "      <td>anjir yg gua pacar mah jay</td>\n",
       "      <td>0.0</td>\n",
       "      <td>0.000</td>\n",
       "      <td>1.000</td>\n",
       "    </tr>\n",
       "    <tr>\n",
       "      <th>177</th>\n",
       "      <td>anjir ngetiknya kaya org gpny agama</td>\n",
       "      <td>0.0</td>\n",
       "      <td>0.000</td>\n",
       "      <td>1.000</td>\n",
       "    </tr>\n",
       "    <tr>\n",
       "      <th>178</th>\n",
       "      <td>gue gimana anjir ngadepin dua</td>\n",
       "      <td>0.0</td>\n",
       "      <td>0.000</td>\n",
       "      <td>1.000</td>\n",
       "    </tr>\n",
       "    <tr>\n",
       "      <th>179</th>\n",
       "      <td>anjir uwu ros</td>\n",
       "      <td>0.0</td>\n",
       "      <td>0.000</td>\n",
       "      <td>1.000</td>\n",
       "    </tr>\n",
       "  </tbody>\n",
       "</table>\n",
       "<p>180 rows × 4 columns</p>\n",
       "</div>"
      ],
      "text/plain": [
       "                             Hasil_Pembersihan_2  Positive  Negative  Neutral\n",
       "0                  yalord gw ga pgn ngekos anjir       0.0     0.000    1.000\n",
       "1                                 anjir gitu bgt       0.0     0.000    1.000\n",
       "2        die yg rampasnk suruh sape pulang anjir       0.0     0.394    0.606\n",
       "3                                anjir cakep bgt       0.0     0.000    1.000\n",
       "4    jelasin klo jelas salah tuh si anjir wkwkwk       0.0     0.000    1.000\n",
       "..                                           ...       ...       ...      ...\n",
       "175                                   wkwk anjir       0.0     0.000    1.000\n",
       "176                   anjir yg gua pacar mah jay       0.0     0.000    1.000\n",
       "177          anjir ngetiknya kaya org gpny agama       0.0     0.000    1.000\n",
       "178                gue gimana anjir ngadepin dua       0.0     0.000    1.000\n",
       "179                                anjir uwu ros       0.0     0.000    1.000\n",
       "\n",
       "[180 rows x 4 columns]"
      ]
     },
     "execution_count": 48,
     "metadata": {},
     "output_type": "execute_result"
    }
   ],
   "source": [
    "sentiment_df = newtweets_df[[\"Hasil_Pembersihan_2\", \"Positive\", \"Negative\", \"Neutral\"]]\n",
    "sentiment_df.head(180)"
   ]
  },
  {
   "cell_type": "code",
   "execution_count": 49,
   "metadata": {},
   "outputs": [
    {
     "name": "stdout",
     "output_type": "stream",
     "text": [
      "Neutral 🙂 \n"
     ]
    }
   ],
   "source": [
    "x = sum(newtweets_df[\"Positive\"])\n",
    "y = sum(newtweets_df[\"Negative\"])\n",
    "z = sum(newtweets_df[\"Neutral\"])\n",
    "\n",
    "def sentiment_score(a, b, c):\n",
    "    if (a>b) and (a>c):\n",
    "        print(\"Positive 😊 \")\n",
    "    elif (b>a) and (b>c):\n",
    "        print(\"Negative 😠 \")\n",
    "    else:\n",
    "        print(\"Neutral 🙂 \")\n",
    "sentiment_score(x, y, z)"
   ]
  },
  {
   "cell_type": "code",
   "execution_count": 50,
   "metadata": {},
   "outputs": [
    {
     "name": "stdout",
     "output_type": "stream",
     "text": [
      "Positive:  2.43\n",
      "Negative:  1.679\n",
      "Neutral:  175.89100000000002\n"
     ]
    }
   ],
   "source": [
    "print(\"Positive: \", x)\n",
    "print(\"Negative: \", y)\n",
    "print(\"Neutral: \", z)"
   ]
  },
  {
   "cell_type": "code",
   "execution_count": 52,
   "metadata": {},
   "outputs": [
    {
     "data": {
      "text/plain": [
       "anjir                                                                                                                     16\n",
       "ditaa sooo beautiful vidio gua cuman bilang anjir dita cantik banget gangerti gua anak agung                               3\n",
       "yalord gw ga pgn ngekos anjir                                                                                              1\n",
       "tp gua takut anjir kalo kesana wkwk kek yg liatin d yg kosong bolong                                                       1\n",
       "sih anjir                                                                                                                  1\n",
       "                                                                                                                          ..\n",
       "kalo shift beh udah kaya beda kelas banget anjir ngak kenal                                                                1\n",
       "kelas mah batu loncat doang anjir cepet lulus orang kls udah kaya orang beda kelas trus campur ngak interaksi wkwkwkwk     1\n",
       "anjir bagus banget                                                                                                         1\n",
       "ni lzj horanghae gw nang anjir                                                                                             1\n",
       "anjir uwu ros                                                                                                              1\n",
       "Name: Hasil_Pembersihan_2, Length: 163, dtype: int64"
      ]
     },
     "execution_count": 52,
     "metadata": {},
     "output_type": "execute_result"
    }
   ],
   "source": [
    "newtweets_df['Hasil_Pembersihan_2'].value_counts()"
   ]
  },
  {
   "cell_type": "code",
   "execution_count": null,
   "metadata": {},
   "outputs": [],
   "source": []
  },
  {
   "cell_type": "code",
   "execution_count": 19,
   "metadata": {},
   "outputs": [],
   "source": [
    "newtweets_df.to_csv('hasil_anjir.csv',encoding='utf8', index=False)"
   ]
  },
  {
   "cell_type": "code",
   "execution_count": 20,
   "metadata": {},
   "outputs": [
    {
     "name": "stdout",
     "output_type": "stream",
     "text": [
      "<wordcloud.wordcloud.WordCloud object at 0x00000242939FCF70>\n"
     ]
    },
    {
     "data": {
      "image/png": "[encoded data removed]",
      "text/plain": [
       "<Figure size 432x288 with 1 Axes>"
      ]
     },
     "metadata": {
      "needs_background": "light"
     },
     "output_type": "display_data"
    }
   ],
   "source": [
    "import numpy as np\n",
    "import pandas as pd \n",
    "import matplotlib as mpl\n",
    "import matplotlib.pyplot as plt\n",
    "%matplotlib inline\n",
    "\n",
    "from subprocess import check_output\n",
    "from wordcloud import WordCloud, STOPWORDS\n",
    "\n",
    "mpl.rcParams['font.size']=12\n",
    "mpl.rcParams['savefig.dpi']=100\n",
    "mpl.rcParams['figure.subplot.bottom']=.1 \n",
    "\n",
    "stopwords = set(STOPWORDS)\n",
    "data = pd.read_csv(\"hasil_anjir.csv\")\n",
    "\n",
    "wordcloud = WordCloud(\n",
    "                          background_color='white',\n",
    "                          stopwords=stopwords,\n",
    "                          max_words=200,\n",
    "                          max_font_size=40, \n",
    "                          random_state=42\n",
    "                         ).generate(str(data['Hasil_Pembersihan_2']))\n",
    "\n",
    "print(wordcloud)\n",
    "fig = plt.figure(1)\n",
    "plt.imshow(wordcloud)\n",
    "plt.axis('off')\n",
    "plt.show()"
   ]
  },
  {
   "cell_type": "code",
   "execution_count": 21,
   "metadata": {},
   "outputs": [
    {
     "name": "stdout",
     "output_type": "stream",
     "text": [
      "Requirement already satisfied: matplotlib in c:\\users\\bila\\anaconda3\\lib\\site-packages (3.2.2)\n",
      "Requirement already satisfied: kiwisolver>=1.0.1 in c:\\users\\bila\\anaconda3\\lib\\site-packages (from matplotlib) (1.2.0)\n",
      "Requirement already satisfied: cycler>=0.10 in c:\\users\\bila\\anaconda3\\lib\\site-packages (from matplotlib) (0.10.0)\n",
      "Requirement already satisfied: numpy>=1.11 in c:\\users\\bila\\anaconda3\\lib\\site-packages (from matplotlib) (1.19.5)\n",
      "Requirement already satisfied: python-dateutil>=2.1 in c:\\users\\bila\\anaconda3\\lib\\site-packages (from matplotlib) (2.8.1)\n",
      "Requirement already satisfied: pyparsing!=2.0.4,!=2.1.2,!=2.1.6,>=2.0.1 in c:\\users\\bila\\anaconda3\\lib\\site-packages (from matplotlib) (2.4.7)\n",
      "Requirement already satisfied: six in c:\\users\\bila\\anaconda3\\lib\\site-packages (from cycler>=0.10->matplotlib) (1.15.0)\n",
      "Note: you may need to restart the kernel to use updated packages.\n"
     ]
    }
   ],
   "source": [
    "pip install matplotlib"
   ]
  },
  {
   "cell_type": "code",
   "execution_count": 35,
   "metadata": {},
   "outputs": [
    {
     "data": {
      "image/png": "[encoded data removed]",
      "text/plain": [
       "<Figure size 432x288 with 1 Axes>"
      ]
     },
     "metadata": {},
     "output_type": "display_data"
    }
   ],
   "source": [
    "import matplotlib.pyplot as plt\n",
    "import numpy as np\n",
    "\n",
    "y = np.array([2.697, 1.96, 175.343])\n",
    "mylabels = [\"Positive\", \"Negative\", \"Neutral\"]\n",
    "mycolors = [\"black\", \"hotpink\", \"b\", \"#4CAF50\"]\n",
    "explode = (0.5, 0.3, 0.2)\n",
    "\n",
    "plt.pie(y, labels = mylabels, startangle = 90)\n",
    "plt.legend(title = \"Analysis Sentiment:\")\n",
    "plt.show() "
   ]
  },
  {
   "cell_type": "code",
   "execution_count": 1,
   "metadata": {},
   "outputs": [],
   "source": [
    "newtweets_df['Hasil_Pembersihan_2'].value_count()"
   ]
  },
  {
   "cell_type": "code",
   "execution_count": 47,
   "metadata": {},
   "outputs": [
    {
     "data": {
      "image/png": "[encoded data removed]",
      "text/plain": [
       "<Figure size 720x504 with 1 Axes>"
      ]
     },
     "metadata": {},
     "output_type": "display_data"
    }
   ],
   "source": [
    "# Import libraries\n",
    "import numpy as np\n",
    "import matplotlib.pyplot as plt\n",
    "\n",
    "\n",
    "# Creating dataset\n",
    "Sentiment = ['Possitive', 'Negative', 'Neutral']\n",
    "\n",
    "data = [2.43, 1.68, 175.90]\n",
    "\n",
    "\n",
    "# Creating explode data\n",
    "explode = (0.5, 0.3, 0.2)\n",
    "\n",
    "# Creating color parameters\n",
    "colors = ( \"orange\", \"cyan\", \"beige\")\n",
    "\n",
    "# Wedge properties\n",
    "wp = { 'linewidth' : 1, 'edgecolor' : \"green\" }\n",
    "\n",
    "def func(pct, allvalues):\n",
    "    absolute = int(pct / 100.*np.sum(allvalues))\n",
    "    return \"{:.1f}%)\".format(pct, absolute)\n",
    "\n",
    "# Creating plot\n",
    "fig, ax = plt.subplots(figsize =(10, 7))\n",
    "wedges, texts, autotexts = ax.pie(data,\n",
    "\t\t\t\t\t\t\t\tautopct = lambda pct: func(pct, data),\n",
    "\t\t\t\t\t\t\t\texplode = explode,\n",
    "\t\t\t\t\t\t\t\tlabels = Sentiment,\n",
    "\t\t\t\t\t\t\t\tshadow = True,\n",
    "\t\t\t\t\t\t\t\tcolors = colors,\n",
    "\t\t\t\t\t\t\t\tstartangle = 90,\n",
    "\t\t\t\t\t\t\t\twedgeprops = wp,\n",
    "\t\t\t\t\t\t\t\ttextprops = dict(color =\"black\"))\n",
    "\n",
    "# Adding legend\n",
    "ax.legend(wedges, Sentiment,\n",
    "\t\ttitle =\"Sentiment\",\n",
    "\t\tloc =\"center left\",\n",
    "\t\tbbox_to_anchor =(1, 0, 0.5, 1))\n",
    "\n",
    "plt.setp(autotexts, size = 10, weight =\"bold\")\n",
    "ax.set_title(\"Sentiments\")\n",
    "\n",
    "# show plot\n",
    "plt.show()\n"
   ]
  },
  {
   "cell_type": "code",
   "execution_count": 43,
   "metadata": {},
   "outputs": [
    {
     "ename": "TypeError",
     "evalue": "pie() got an unexpected keyword argument 'Sentiment'",
     "output_type": "error",
     "traceback": [
      "\u001b[1;31m---------------------------------------------------------------------------\u001b[0m",
      "\u001b[1;31mTypeError\u001b[0m                                 Traceback (most recent call last)",
      "\u001b[1;32mC:\\Users\\AMELIY~1\\AppData\\Local\\Temp/ipykernel_15084/4268637289.py\u001b[0m in \u001b[0;36m<module>\u001b[1;34m\u001b[0m\n\u001b[0;32m      7\u001b[0m \u001b[1;33m\u001b[0m\u001b[0m\n\u001b[0;32m      8\u001b[0m \u001b[0mfig1\u001b[0m\u001b[1;33m,\u001b[0m \u001b[0max1\u001b[0m \u001b[1;33m=\u001b[0m \u001b[0mplt\u001b[0m\u001b[1;33m.\u001b[0m\u001b[0msubplots\u001b[0m\u001b[1;33m(\u001b[0m\u001b[1;33m)\u001b[0m\u001b[1;33m\u001b[0m\u001b[1;33m\u001b[0m\u001b[0m\n\u001b[1;32m----> 9\u001b[1;33m ax1.pie(sizes, explode=explode, Sentiment=Sentiment, autopct='%1.1f%%',\n\u001b[0m\u001b[0;32m     10\u001b[0m         shadow=True, startangle=90)\n\u001b[0;32m     11\u001b[0m \u001b[0max1\u001b[0m\u001b[1;33m.\u001b[0m\u001b[0maxis\u001b[0m\u001b[1;33m(\u001b[0m\u001b[1;34m'equal'\u001b[0m\u001b[1;33m)\u001b[0m  \u001b[1;31m# Equal aspect ratio ensures that pie is drawn as a circle.\u001b[0m\u001b[1;33m\u001b[0m\u001b[1;33m\u001b[0m\u001b[0m\n",
      "\u001b[1;32m~\\anaconda3\\lib\\site-packages\\matplotlib\\__init__.py\u001b[0m in \u001b[0;36minner\u001b[1;34m(ax, data, *args, **kwargs)\u001b[0m\n\u001b[0;32m   1359\u001b[0m     \u001b[1;32mdef\u001b[0m \u001b[0minner\u001b[0m\u001b[1;33m(\u001b[0m\u001b[0max\u001b[0m\u001b[1;33m,\u001b[0m \u001b[1;33m*\u001b[0m\u001b[0margs\u001b[0m\u001b[1;33m,\u001b[0m \u001b[0mdata\u001b[0m\u001b[1;33m=\u001b[0m\u001b[1;32mNone\u001b[0m\u001b[1;33m,\u001b[0m \u001b[1;33m**\u001b[0m\u001b[0mkwargs\u001b[0m\u001b[1;33m)\u001b[0m\u001b[1;33m:\u001b[0m\u001b[1;33m\u001b[0m\u001b[1;33m\u001b[0m\u001b[0m\n\u001b[0;32m   1360\u001b[0m         \u001b[1;32mif\u001b[0m \u001b[0mdata\u001b[0m \u001b[1;32mis\u001b[0m \u001b[1;32mNone\u001b[0m\u001b[1;33m:\u001b[0m\u001b[1;33m\u001b[0m\u001b[1;33m\u001b[0m\u001b[0m\n\u001b[1;32m-> 1361\u001b[1;33m             \u001b[1;32mreturn\u001b[0m \u001b[0mfunc\u001b[0m\u001b[1;33m(\u001b[0m\u001b[0max\u001b[0m\u001b[1;33m,\u001b[0m \u001b[1;33m*\u001b[0m\u001b[0mmap\u001b[0m\u001b[1;33m(\u001b[0m\u001b[0msanitize_sequence\u001b[0m\u001b[1;33m,\u001b[0m \u001b[0margs\u001b[0m\u001b[1;33m)\u001b[0m\u001b[1;33m,\u001b[0m \u001b[1;33m**\u001b[0m\u001b[0mkwargs\u001b[0m\u001b[1;33m)\u001b[0m\u001b[1;33m\u001b[0m\u001b[1;33m\u001b[0m\u001b[0m\n\u001b[0m\u001b[0;32m   1362\u001b[0m \u001b[1;33m\u001b[0m\u001b[0m\n\u001b[0;32m   1363\u001b[0m         \u001b[0mbound\u001b[0m \u001b[1;33m=\u001b[0m \u001b[0mnew_sig\u001b[0m\u001b[1;33m.\u001b[0m\u001b[0mbind\u001b[0m\u001b[1;33m(\u001b[0m\u001b[0max\u001b[0m\u001b[1;33m,\u001b[0m \u001b[1;33m*\u001b[0m\u001b[0margs\u001b[0m\u001b[1;33m,\u001b[0m \u001b[1;33m**\u001b[0m\u001b[0mkwargs\u001b[0m\u001b[1;33m)\u001b[0m\u001b[1;33m\u001b[0m\u001b[1;33m\u001b[0m\u001b[0m\n",
      "\u001b[1;31mTypeError\u001b[0m: pie() got an unexpected keyword argument 'Sentiment'"
     ]
    },
    {
     "data": {
      "image/png": "[encoded data removed]",
      "text/plain": [
       "<Figure size 432x288 with 1 Axes>"
      ]
     },
     "metadata": {
      "needs_background": "light"
     },
     "output_type": "display_data"
    }
   ],
   "source": [
    "import matplotlib.pyplot as plt\n",
    "\n",
    "# Pie chart, where the slices will be ordered and plotted counter-clockwise:\n",
    "Sentiment = 'Possitive', 'Negative', 'Neutral'\n",
    "sizes = [2.43, 1.68, 175.90]\n",
    "explode = (0, 0.1, 0, 0)  # only \"explode\" the 2nd slice (i.e. 'Hogs')\n",
    "\n",
    "fig1, ax1 = plt.subplots()\n",
    "ax1.pie(sizes, explode=explode, Sentiment=Sentiment, autopct='%1.1f%%',\n",
    "        shadow=True, startangle=90)\n",
    "ax1.axis('equal')  # Equal aspect ratio ensures that pie is drawn as a circle.\n",
    "\n",
    "plt.show()"
   ]
  },
  {
   "cell_type": "code",
   "execution_count": null,
   "metadata": {},
   "outputs": [],
   "source": []
  },
  {
   "cell_type": "code",
   "execution_count": null,
   "metadata": {},
   "outputs": [],
   "source": []
  },
  {
   "cell_type": "code",
   "execution_count": null,
   "metadata": {},
   "outputs": [],
   "source": []
  },
  {
   "cell_type": "code",
   "execution_count": null,
   "metadata": {},
   "outputs": [],
   "source": []
  }
 ],
 "metadata": {
  "colab": {
   "collapsed_sections": [],
   "name": "ANALISA SENTIMEN \"ANJIR\" NEW API",
   "provenance": []
  },
  "kernelspec": {
   "display_name": "Python 3 (ipykernel)",
   "language": "python",
   "name": "python3"
  },
  "language_info": {
   "codemirror_mode": {
    "name": "ipython",
    "version": 3
   },
   "file_extension": ".py",
   "mimetype": "text/x-python",
   "name": "python",
   "nbconvert_exporter": "python",
   "pygments_lexer": "ipython3",
   "version": "3.9.7"
  }
 },
 "nbformat": 4,
 "nbformat_minor": 4
}
